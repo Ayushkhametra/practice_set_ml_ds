{
 "cells": [
  {
   "cell_type": "code",
   "execution_count": 1,
   "id": "b185244a-ade8-41e1-8727-e945c66f66b4",
   "metadata": {},
   "outputs": [],
   "source": [
    "import pandas as pd \n",
    "import numpy as np "
   ]
  },
  {
   "cell_type": "code",
   "execution_count": 83,
   "id": "caa48b12-c392-4b9a-ba1d-10eaf037ac5a",
   "metadata": {
    "scrolled": true
   },
   "outputs": [
    {
     "data": {
      "text/html": [
       "<div>\n",
       "<style scoped>\n",
       "    .dataframe tbody tr th:only-of-type {\n",
       "        vertical-align: middle;\n",
       "    }\n",
       "\n",
       "    .dataframe tbody tr th {\n",
       "        vertical-align: top;\n",
       "    }\n",
       "\n",
       "    .dataframe thead th {\n",
       "        text-align: right;\n",
       "    }\n",
       "</style>\n",
       "<table border=\"1\" class=\"dataframe\">\n",
       "  <thead>\n",
       "    <tr style=\"text-align: right;\">\n",
       "      <th></th>\n",
       "      <th>country</th>\n",
       "      <th>country_long</th>\n",
       "      <th>currency</th>\n",
       "      <th>capital_city</th>\n",
       "      <th>region</th>\n",
       "      <th>continent</th>\n",
       "      <th>demonym</th>\n",
       "      <th>latitude</th>\n",
       "      <th>longitude</th>\n",
       "      <th>agricultural_land</th>\n",
       "      <th>...</th>\n",
       "      <th>population</th>\n",
       "      <th>women_parliament_seats_pct</th>\n",
       "      <th>rural_population</th>\n",
       "      <th>urban_population</th>\n",
       "      <th>press</th>\n",
       "      <th>democracy_score</th>\n",
       "      <th>democracy_type</th>\n",
       "      <th>median_age</th>\n",
       "      <th>political_leader</th>\n",
       "      <th>title</th>\n",
       "    </tr>\n",
       "  </thead>\n",
       "  <tbody>\n",
       "    <tr>\n",
       "      <th>0</th>\n",
       "      <td>Afghanistan</td>\n",
       "      <td>Islamic State of Afghanistan</td>\n",
       "      <td>Afghan afghani</td>\n",
       "      <td>Kabul</td>\n",
       "      <td>Southern Asia</td>\n",
       "      <td>Asia</td>\n",
       "      <td>Afghan</td>\n",
       "      <td>33.0</td>\n",
       "      <td>65.0</td>\n",
       "      <td>383560.0</td>\n",
       "      <td>...</td>\n",
       "      <td>41128771</td>\n",
       "      <td>27.0161</td>\n",
       "      <td>30181937</td>\n",
       "      <td>10946834</td>\n",
       "      <td>2.14</td>\n",
       "      <td>2.97</td>\n",
       "      <td>Authoritarian</td>\n",
       "      <td>12.9</td>\n",
       "      <td>Ashraf Ghani</td>\n",
       "      <td>President</td>\n",
       "    </tr>\n",
       "  </tbody>\n",
       "</table>\n",
       "<p>1 rows × 64 columns</p>\n",
       "</div>"
      ],
      "text/plain": [
       "       country                  country_long        currency capital_city  \\\n",
       "0  Afghanistan  Islamic State of Afghanistan  Afghan afghani        Kabul   \n",
       "\n",
       "          region continent demonym  latitude  longitude  agricultural_land  \\\n",
       "0  Southern Asia      Asia  Afghan      33.0       65.0           383560.0   \n",
       "\n",
       "   ...  population  women_parliament_seats_pct  rural_population  \\\n",
       "0  ...    41128771                     27.0161          30181937   \n",
       "\n",
       "   urban_population  press  democracy_score  democracy_type  median_age  \\\n",
       "0          10946834   2.14             2.97   Authoritarian        12.9   \n",
       "\n",
       "   political_leader      title  \n",
       "0      Ashraf Ghani  President  \n",
       "\n",
       "[1 rows x 64 columns]"
      ]
     },
     "execution_count": 83,
     "metadata": {},
     "output_type": "execute_result"
    }
   ],
   "source": [
    "df =pd.read_csv('Countries.csv')\n",
    "df.head(1)"
   ]
  },
  {
   "cell_type": "code",
   "execution_count": 58,
   "id": "4b1e5974-6bce-4530-a23f-e89028da64b7",
   "metadata": {},
   "outputs": [
    {
     "data": {
      "text/plain": [
       "(194, 64)"
      ]
     },
     "execution_count": 58,
     "metadata": {},
     "output_type": "execute_result"
    }
   ],
   "source": [
    "df.shape"
   ]
  },
  {
   "cell_type": "code",
   "execution_count": 59,
   "id": "17c105fb-cf4e-4c36-aec8-383514cad80c",
   "metadata": {
    "scrolled": true
   },
   "outputs": [
    {
     "name": "stdout",
     "output_type": "stream",
     "text": [
      "<class 'pandas.core.frame.DataFrame'>\n",
      "RangeIndex: 194 entries, 0 to 193\n",
      "Data columns (total 64 columns):\n",
      " #   Column                                   Non-Null Count  Dtype  \n",
      "---  ------                                   --------------  -----  \n",
      " 0   country                                  194 non-null    object \n",
      " 1   country_long                             194 non-null    object \n",
      " 2   currency                                 194 non-null    object \n",
      " 3   capital_city                             194 non-null    object \n",
      " 4   region                                   194 non-null    object \n",
      " 5   continent                                194 non-null    object \n",
      " 6   demonym                                  194 non-null    object \n",
      " 7   latitude                                 194 non-null    float64\n",
      " 8   longitude                                194 non-null    float64\n",
      " 9   agricultural_land                        193 non-null    float64\n",
      " 10  forest_area                              194 non-null    float64\n",
      " 11  land_area                                194 non-null    float64\n",
      " 12  rural_land                               194 non-null    float64\n",
      " 13  urban_land                               194 non-null    float64\n",
      " 14  central_government_debt_pct_gdp          120 non-null    float64\n",
      " 15  expense_pct_gdp                          156 non-null    float64\n",
      " 16  gdp                                      193 non-null    float64\n",
      " 17  inflation                                184 non-null    float64\n",
      " 18  self_employed_pct                        179 non-null    float64\n",
      " 19  tax_revenue_pct_gdp                      159 non-null    float64\n",
      " 20  unemployment_pct                         179 non-null    float64\n",
      " 21  vulnerable_employment_pct                179 non-null    float64\n",
      " 22  electricity_access_pct                   194 non-null    float64\n",
      " 23  alternative_nuclear_energy_pct           138 non-null    float64\n",
      " 24  electricty_production_coal_pct           138 non-null    float64\n",
      " 25  electricty_production_hydroelectric_pct  138 non-null    float64\n",
      " 26  electricty_production_gas_pct            138 non-null    float64\n",
      " 27  electricty_production_nuclear_pct        138 non-null    float64\n",
      " 28  electricty_production_oil_pct            138 non-null    float64\n",
      " 29  electricty_production_renewable_pct      138 non-null    float64\n",
      " 30  energy_imports_pct                       138 non-null    float64\n",
      " 31  fossil_energy_consumption_pct            168 non-null    float64\n",
      " 32  renewable_energy_consumption_pct         192 non-null    float64\n",
      " 33  co2_emissions                            191 non-null    float64\n",
      " 34  methane_emissions                        191 non-null    float64\n",
      " 35  nitrous_oxide_emissions                  191 non-null    float64\n",
      " 36  greenhouse_other_emissions               184 non-null    float64\n",
      " 37  urban_population_under_5m                194 non-null    float64\n",
      " 38  health_expenditure_pct_gdp               190 non-null    float64\n",
      " 39  health_expenditure_capita                190 non-null    float64\n",
      " 40  hospital_beds                            192 non-null    float64\n",
      " 41  hiv_incidence                            133 non-null    float64\n",
      " 42  suicide_rate                             183 non-null    float64\n",
      " 43  armed_forces                             174 non-null    float64\n",
      " 44  internally_displaced_persons             73 non-null     float64\n",
      " 45  military_expenditure_pct_gdp             163 non-null    float64\n",
      " 46  birth_rate                               194 non-null    float64\n",
      " 47  death_rate                               194 non-null    float64\n",
      " 48  fertility_rate                           193 non-null    float64\n",
      " 49  internet_pct                             194 non-null    float64\n",
      " 50  life_expectancy                          191 non-null    float64\n",
      " 51  net_migration                            194 non-null    int64  \n",
      " 52  population_female                        194 non-null    int64  \n",
      " 53  population_male                          194 non-null    int64  \n",
      " 54  population                               194 non-null    int64  \n",
      " 55  women_parliament_seats_pct               193 non-null    float64\n",
      " 56  rural_population                         194 non-null    int64  \n",
      " 57  urban_population                         194 non-null    int64  \n",
      " 58  press                                    194 non-null    float64\n",
      " 59  democracy_score                          194 non-null    float64\n",
      " 60  democracy_type                           194 non-null    object \n",
      " 61  median_age                               194 non-null    float64\n",
      " 62  political_leader                         187 non-null    object \n",
      " 63  title                                    187 non-null    object \n",
      "dtypes: float64(48), int64(6), object(10)\n",
      "memory usage: 97.1+ KB\n"
     ]
    }
   ],
   "source": [
    "df.info()"
   ]
  },
  {
   "cell_type": "code",
   "execution_count": 60,
   "id": "e60531d4-1ed3-457a-9cfa-97f647ae5328",
   "metadata": {},
   "outputs": [
    {
     "data": {
      "text/html": [
       "<div>\n",
       "<style scoped>\n",
       "    .dataframe tbody tr th:only-of-type {\n",
       "        vertical-align: middle;\n",
       "    }\n",
       "\n",
       "    .dataframe tbody tr th {\n",
       "        vertical-align: top;\n",
       "    }\n",
       "\n",
       "    .dataframe thead th {\n",
       "        text-align: right;\n",
       "    }\n",
       "</style>\n",
       "<table border=\"1\" class=\"dataframe\">\n",
       "  <thead>\n",
       "    <tr style=\"text-align: right;\">\n",
       "      <th></th>\n",
       "      <th>latitude</th>\n",
       "      <th>longitude</th>\n",
       "      <th>agricultural_land</th>\n",
       "      <th>forest_area</th>\n",
       "      <th>land_area</th>\n",
       "      <th>rural_land</th>\n",
       "      <th>urban_land</th>\n",
       "      <th>central_government_debt_pct_gdp</th>\n",
       "      <th>expense_pct_gdp</th>\n",
       "      <th>gdp</th>\n",
       "      <th>...</th>\n",
       "      <th>net_migration</th>\n",
       "      <th>population_female</th>\n",
       "      <th>population_male</th>\n",
       "      <th>population</th>\n",
       "      <th>women_parliament_seats_pct</th>\n",
       "      <th>rural_population</th>\n",
       "      <th>urban_population</th>\n",
       "      <th>press</th>\n",
       "      <th>democracy_score</th>\n",
       "      <th>median_age</th>\n",
       "    </tr>\n",
       "  </thead>\n",
       "  <tbody>\n",
       "    <tr>\n",
       "      <th>count</th>\n",
       "      <td>194.000000</td>\n",
       "      <td>194.000000</td>\n",
       "      <td>1.930000e+02</td>\n",
       "      <td>1.940000e+02</td>\n",
       "      <td>1.940000e+02</td>\n",
       "      <td>1.940000e+02</td>\n",
       "      <td>194.000000</td>\n",
       "      <td>120.000000</td>\n",
       "      <td>156.000000</td>\n",
       "      <td>1.930000e+02</td>\n",
       "      <td>...</td>\n",
       "      <td>194.000000</td>\n",
       "      <td>1.940000e+02</td>\n",
       "      <td>1.940000e+02</td>\n",
       "      <td>1.940000e+02</td>\n",
       "      <td>193.000000</td>\n",
       "      <td>1.940000e+02</td>\n",
       "      <td>1.940000e+02</td>\n",
       "      <td>194.000000</td>\n",
       "      <td>194.000000</td>\n",
       "      <td>194.000000</td>\n",
       "    </tr>\n",
       "    <tr>\n",
       "      <th>mean</th>\n",
       "      <td>18.975601</td>\n",
       "      <td>22.027491</td>\n",
       "      <td>2.454551e+05</td>\n",
       "      <td>2.086784e+05</td>\n",
       "      <td>6.675087e+05</td>\n",
       "      <td>6.563711e+05</td>\n",
       "      <td>9777.116531</td>\n",
       "      <td>66.759366</td>\n",
       "      <td>30.051403</td>\n",
       "      <td>5.144851e+11</td>\n",
       "      <td>...</td>\n",
       "      <td>-51.407216</td>\n",
       "      <td>2.028316e+07</td>\n",
       "      <td>2.050572e+07</td>\n",
       "      <td>4.078888e+07</td>\n",
       "      <td>25.022994</td>\n",
       "      <td>1.763322e+07</td>\n",
       "      <td>2.315566e+07</td>\n",
       "      <td>2.539330</td>\n",
       "      <td>4.644536</td>\n",
       "      <td>25.661856</td>\n",
       "    </tr>\n",
       "    <tr>\n",
       "      <th>std</th>\n",
       "      <td>23.876225</td>\n",
       "      <td>66.396389</td>\n",
       "      <td>6.356268e+05</td>\n",
       "      <td>7.824926e+05</td>\n",
       "      <td>1.837107e+06</td>\n",
       "      <td>1.811169e+06</td>\n",
       "      <td>42301.458421</td>\n",
       "      <td>71.806247</td>\n",
       "      <td>26.740880</td>\n",
       "      <td>2.307148e+12</td>\n",
       "      <td>...</td>\n",
       "      <td>94525.968598</td>\n",
       "      <td>7.258941e+07</td>\n",
       "      <td>7.607158e+07</td>\n",
       "      <td>1.486470e+08</td>\n",
       "      <td>12.671044</td>\n",
       "      <td>7.664187e+07</td>\n",
       "      <td>7.940393e+07</td>\n",
       "      <td>1.800128</td>\n",
       "      <td>2.818297</td>\n",
       "      <td>9.415569</td>\n",
       "    </tr>\n",
       "    <tr>\n",
       "      <th>min</th>\n",
       "      <td>-41.000000</td>\n",
       "      <td>-175.000000</td>\n",
       "      <td>4.000000e+00</td>\n",
       "      <td>0.000000e+00</td>\n",
       "      <td>2.027000e+00</td>\n",
       "      <td>3.495450e-02</td>\n",
       "      <td>0.000000</td>\n",
       "      <td>0.000000</td>\n",
       "      <td>0.000267</td>\n",
       "      <td>6.034940e+07</td>\n",
       "      <td>...</td>\n",
       "      <td>-525116.000000</td>\n",
       "      <td>5.513000e+03</td>\n",
       "      <td>5.799000e+03</td>\n",
       "      <td>1.131200e+04</td>\n",
       "      <td>0.000000</td>\n",
       "      <td>0.000000e+00</td>\n",
       "      <td>5.717000e+03</td>\n",
       "      <td>0.000000</td>\n",
       "      <td>0.000000</td>\n",
       "      <td>10.500000</td>\n",
       "    </tr>\n",
       "    <tr>\n",
       "      <th>25%</th>\n",
       "      <td>4.000000</td>\n",
       "      <td>-5.000000</td>\n",
       "      <td>6.464000e+03</td>\n",
       "      <td>3.331775e+03</td>\n",
       "      <td>2.355250e+04</td>\n",
       "      <td>2.186562e+04</td>\n",
       "      <td>359.618250</td>\n",
       "      <td>31.951300</td>\n",
       "      <td>18.371875</td>\n",
       "      <td>1.181390e+10</td>\n",
       "      <td>...</td>\n",
       "      <td>-12242.250000</td>\n",
       "      <td>1.036218e+06</td>\n",
       "      <td>1.044902e+06</td>\n",
       "      <td>2.106358e+06</td>\n",
       "      <td>15.384600</td>\n",
       "      <td>5.896640e+05</td>\n",
       "      <td>1.222244e+06</td>\n",
       "      <td>1.525000</td>\n",
       "      <td>2.722500</td>\n",
       "      <td>16.950000</td>\n",
       "    </tr>\n",
       "    <tr>\n",
       "      <th>50%</th>\n",
       "      <td>16.583333</td>\n",
       "      <td>21.500000</td>\n",
       "      <td>3.872780e+04</td>\n",
       "      <td>2.528925e+04</td>\n",
       "      <td>1.203750e+05</td>\n",
       "      <td>1.159945e+05</td>\n",
       "      <td>1645.170000</td>\n",
       "      <td>55.426850</td>\n",
       "      <td>27.337750</td>\n",
       "      <td>4.115390e+10</td>\n",
       "      <td>...</td>\n",
       "      <td>-970.000000</td>\n",
       "      <td>4.502713e+06</td>\n",
       "      <td>4.450049e+06</td>\n",
       "      <td>9.125614e+06</td>\n",
       "      <td>25.252500</td>\n",
       "      <td>2.512382e+06</td>\n",
       "      <td>4.508837e+06</td>\n",
       "      <td>2.400000</td>\n",
       "      <td>5.050000</td>\n",
       "      <td>24.950000</td>\n",
       "    </tr>\n",
       "    <tr>\n",
       "      <th>75%</th>\n",
       "      <td>40.000000</td>\n",
       "      <td>50.162500</td>\n",
       "      <td>2.150000e+05</td>\n",
       "      <td>1.236735e+05</td>\n",
       "      <td>5.237000e+05</td>\n",
       "      <td>4.911505e+05</td>\n",
       "      <td>4054.022500</td>\n",
       "      <td>79.539300</td>\n",
       "      <td>35.083500</td>\n",
       "      <td>2.519450e+11</td>\n",
       "      <td>...</td>\n",
       "      <td>2904.250000</td>\n",
       "      <td>1.526606e+07</td>\n",
       "      <td>1.478872e+07</td>\n",
       "      <td>3.031361e+07</td>\n",
       "      <td>33.636400</td>\n",
       "      <td>1.133354e+07</td>\n",
       "      <td>1.621355e+07</td>\n",
       "      <td>2.925000</td>\n",
       "      <td>6.967500</td>\n",
       "      <td>34.050000</td>\n",
       "    </tr>\n",
       "    <tr>\n",
       "      <th>max</th>\n",
       "      <td>65.000000</td>\n",
       "      <td>178.000000</td>\n",
       "      <td>5.285080e+06</td>\n",
       "      <td>8.153120e+06</td>\n",
       "      <td>1.637690e+07</td>\n",
       "      <td>1.622420e+07</td>\n",
       "      <td>522345.000000</td>\n",
       "      <td>687.994000</td>\n",
       "      <td>310.443000</td>\n",
       "      <td>2.546270e+13</td>\n",
       "      <td>...</td>\n",
       "      <td>561580.000000</td>\n",
       "      <td>6.915285e+08</td>\n",
       "      <td>7.311805e+08</td>\n",
       "      <td>1.417173e+09</td>\n",
       "      <td>61.250000</td>\n",
       "      <td>9.088048e+08</td>\n",
       "      <td>8.975784e+08</td>\n",
       "      <td>10.000000</td>\n",
       "      <td>9.870000</td>\n",
       "      <td>50.500000</td>\n",
       "    </tr>\n",
       "  </tbody>\n",
       "</table>\n",
       "<p>8 rows × 54 columns</p>\n",
       "</div>"
      ],
      "text/plain": [
       "         latitude   longitude  agricultural_land   forest_area     land_area  \\\n",
       "count  194.000000  194.000000       1.930000e+02  1.940000e+02  1.940000e+02   \n",
       "mean    18.975601   22.027491       2.454551e+05  2.086784e+05  6.675087e+05   \n",
       "std     23.876225   66.396389       6.356268e+05  7.824926e+05  1.837107e+06   \n",
       "min    -41.000000 -175.000000       4.000000e+00  0.000000e+00  2.027000e+00   \n",
       "25%      4.000000   -5.000000       6.464000e+03  3.331775e+03  2.355250e+04   \n",
       "50%     16.583333   21.500000       3.872780e+04  2.528925e+04  1.203750e+05   \n",
       "75%     40.000000   50.162500       2.150000e+05  1.236735e+05  5.237000e+05   \n",
       "max     65.000000  178.000000       5.285080e+06  8.153120e+06  1.637690e+07   \n",
       "\n",
       "         rural_land     urban_land  central_government_debt_pct_gdp  \\\n",
       "count  1.940000e+02     194.000000                       120.000000   \n",
       "mean   6.563711e+05    9777.116531                        66.759366   \n",
       "std    1.811169e+06   42301.458421                        71.806247   \n",
       "min    3.495450e-02       0.000000                         0.000000   \n",
       "25%    2.186562e+04     359.618250                        31.951300   \n",
       "50%    1.159945e+05    1645.170000                        55.426850   \n",
       "75%    4.911505e+05    4054.022500                        79.539300   \n",
       "max    1.622420e+07  522345.000000                       687.994000   \n",
       "\n",
       "       expense_pct_gdp           gdp  ...  net_migration  population_female  \\\n",
       "count       156.000000  1.930000e+02  ...     194.000000       1.940000e+02   \n",
       "mean         30.051403  5.144851e+11  ...     -51.407216       2.028316e+07   \n",
       "std          26.740880  2.307148e+12  ...   94525.968598       7.258941e+07   \n",
       "min           0.000267  6.034940e+07  ... -525116.000000       5.513000e+03   \n",
       "25%          18.371875  1.181390e+10  ...  -12242.250000       1.036218e+06   \n",
       "50%          27.337750  4.115390e+10  ...    -970.000000       4.502713e+06   \n",
       "75%          35.083500  2.519450e+11  ...    2904.250000       1.526606e+07   \n",
       "max         310.443000  2.546270e+13  ...  561580.000000       6.915285e+08   \n",
       "\n",
       "       population_male    population  women_parliament_seats_pct  \\\n",
       "count     1.940000e+02  1.940000e+02                  193.000000   \n",
       "mean      2.050572e+07  4.078888e+07                   25.022994   \n",
       "std       7.607158e+07  1.486470e+08                   12.671044   \n",
       "min       5.799000e+03  1.131200e+04                    0.000000   \n",
       "25%       1.044902e+06  2.106358e+06                   15.384600   \n",
       "50%       4.450049e+06  9.125614e+06                   25.252500   \n",
       "75%       1.478872e+07  3.031361e+07                   33.636400   \n",
       "max       7.311805e+08  1.417173e+09                   61.250000   \n",
       "\n",
       "       rural_population  urban_population       press  democracy_score  \\\n",
       "count      1.940000e+02      1.940000e+02  194.000000       194.000000   \n",
       "mean       1.763322e+07      2.315566e+07    2.539330         4.644536   \n",
       "std        7.664187e+07      7.940393e+07    1.800128         2.818297   \n",
       "min        0.000000e+00      5.717000e+03    0.000000         0.000000   \n",
       "25%        5.896640e+05      1.222244e+06    1.525000         2.722500   \n",
       "50%        2.512382e+06      4.508837e+06    2.400000         5.050000   \n",
       "75%        1.133354e+07      1.621355e+07    2.925000         6.967500   \n",
       "max        9.088048e+08      8.975784e+08   10.000000         9.870000   \n",
       "\n",
       "       median_age  \n",
       "count  194.000000  \n",
       "mean    25.661856  \n",
       "std      9.415569  \n",
       "min     10.500000  \n",
       "25%     16.950000  \n",
       "50%     24.950000  \n",
       "75%     34.050000  \n",
       "max     50.500000  \n",
       "\n",
       "[8 rows x 54 columns]"
      ]
     },
     "execution_count": 60,
     "metadata": {},
     "output_type": "execute_result"
    }
   ],
   "source": [
    "df.describe()"
   ]
  },
  {
   "cell_type": "code",
   "execution_count": 61,
   "id": "6f44eb12-d5fc-4ae0-a3ab-4a5af6007e22",
   "metadata": {},
   "outputs": [
    {
     "data": {
      "text/plain": [
       "75    India\n",
       "Name: country, dtype: object"
      ]
     },
     "execution_count": 61,
     "metadata": {},
     "output_type": "execute_result"
    }
   ],
   "source": [
    "df[df['population'] == df['population'].max()]['country']"
   ]
  },
  {
   "cell_type": "code",
   "execution_count": 62,
   "id": "c807756d-4fec-4fc1-86ba-f56010d9a027",
   "metadata": {},
   "outputs": [
    {
     "data": {
      "text/html": [
       "<div>\n",
       "<style scoped>\n",
       "    .dataframe tbody tr th:only-of-type {\n",
       "        vertical-align: middle;\n",
       "    }\n",
       "\n",
       "    .dataframe tbody tr th {\n",
       "        vertical-align: top;\n",
       "    }\n",
       "\n",
       "    .dataframe thead th {\n",
       "        text-align: right;\n",
       "    }\n",
       "</style>\n",
       "<table border=\"1\" class=\"dataframe\">\n",
       "  <thead>\n",
       "    <tr style=\"text-align: right;\">\n",
       "      <th></th>\n",
       "      <th>country</th>\n",
       "      <th>country_long</th>\n",
       "      <th>currency</th>\n",
       "      <th>capital_city</th>\n",
       "      <th>region</th>\n",
       "      <th>continent</th>\n",
       "      <th>demonym</th>\n",
       "      <th>latitude</th>\n",
       "      <th>longitude</th>\n",
       "      <th>agricultural_land</th>\n",
       "      <th>...</th>\n",
       "      <th>population</th>\n",
       "      <th>women_parliament_seats_pct</th>\n",
       "      <th>rural_population</th>\n",
       "      <th>urban_population</th>\n",
       "      <th>press</th>\n",
       "      <th>democracy_score</th>\n",
       "      <th>democracy_type</th>\n",
       "      <th>median_age</th>\n",
       "      <th>political_leader</th>\n",
       "      <th>title</th>\n",
       "    </tr>\n",
       "  </thead>\n",
       "  <tbody>\n",
       "    <tr>\n",
       "      <th>0</th>\n",
       "      <td>Afghanistan</td>\n",
       "      <td>Islamic State of Afghanistan</td>\n",
       "      <td>Afghan afghani</td>\n",
       "      <td>Kabul</td>\n",
       "      <td>Southern Asia</td>\n",
       "      <td>Asia</td>\n",
       "      <td>Afghan</td>\n",
       "      <td>33.0</td>\n",
       "      <td>65.0</td>\n",
       "      <td>383560.0</td>\n",
       "      <td>...</td>\n",
       "      <td>41128771</td>\n",
       "      <td>27.0161</td>\n",
       "      <td>30181937</td>\n",
       "      <td>10946834</td>\n",
       "      <td>2.14</td>\n",
       "      <td>2.97</td>\n",
       "      <td>Authoritarian</td>\n",
       "      <td>12.9</td>\n",
       "      <td>Ashraf Ghani</td>\n",
       "      <td>President</td>\n",
       "    </tr>\n",
       "    <tr>\n",
       "      <th>1</th>\n",
       "      <td>Albania</td>\n",
       "      <td>Republic of Albania</td>\n",
       "      <td>Albanian lek</td>\n",
       "      <td>Tirana</td>\n",
       "      <td>Southern Europe</td>\n",
       "      <td>Europe</td>\n",
       "      <td>Albanian</td>\n",
       "      <td>41.0</td>\n",
       "      <td>20.0</td>\n",
       "      <td>11655.5</td>\n",
       "      <td>...</td>\n",
       "      <td>2775634</td>\n",
       "      <td>35.7143</td>\n",
       "      <td>1004807</td>\n",
       "      <td>1770827</td>\n",
       "      <td>2.62</td>\n",
       "      <td>5.98</td>\n",
       "      <td>Hybrid regime</td>\n",
       "      <td>33.7</td>\n",
       "      <td>Edi Rama</td>\n",
       "      <td>Prime Minister</td>\n",
       "    </tr>\n",
       "  </tbody>\n",
       "</table>\n",
       "<p>2 rows × 64 columns</p>\n",
       "</div>"
      ],
      "text/plain": [
       "       country                  country_long        currency capital_city  \\\n",
       "0  Afghanistan  Islamic State of Afghanistan  Afghan afghani        Kabul   \n",
       "1      Albania           Republic of Albania    Albanian lek       Tirana   \n",
       "\n",
       "            region continent   demonym  latitude  longitude  \\\n",
       "0    Southern Asia      Asia    Afghan      33.0       65.0   \n",
       "1  Southern Europe    Europe  Albanian      41.0       20.0   \n",
       "\n",
       "   agricultural_land  ...  population  women_parliament_seats_pct  \\\n",
       "0           383560.0  ...    41128771                     27.0161   \n",
       "1            11655.5  ...     2775634                     35.7143   \n",
       "\n",
       "   rural_population  urban_population  press  democracy_score  democracy_type  \\\n",
       "0          30181937          10946834   2.14             2.97   Authoritarian   \n",
       "1           1004807           1770827   2.62             5.98   Hybrid regime   \n",
       "\n",
       "   median_age  political_leader           title  \n",
       "0        12.9      Ashraf Ghani       President  \n",
       "1        33.7          Edi Rama  Prime Minister  \n",
       "\n",
       "[2 rows x 64 columns]"
      ]
     },
     "execution_count": 62,
     "metadata": {},
     "output_type": "execute_result"
    }
   ],
   "source": [
    "# df.columns\n",
    "df.head(2)"
   ]
  },
  {
   "cell_type": "code",
   "execution_count": 63,
   "id": "740d4576-89eb-4d2c-95b1-19158dc65c28",
   "metadata": {},
   "outputs": [
    {
     "data": {
      "text/plain": [
       "75    New Delhi\n",
       "Name: capital_city, dtype: object"
      ]
     },
     "execution_count": 63,
     "metadata": {},
     "output_type": "execute_result"
    }
   ],
   "source": [
    "df[df['population'] == df['population'].max()]['capital_city']"
   ]
  },
  {
   "cell_type": "code",
   "execution_count": 64,
   "id": "ac683c2e-a630-43b5-a6f2-9799361ca592",
   "metadata": {},
   "outputs": [
    {
     "data": {
      "text/plain": [
       "179    Tuvalu\n",
       "Name: country, dtype: object"
      ]
     },
     "execution_count": 64,
     "metadata": {},
     "output_type": "execute_result"
    }
   ],
   "source": [
    "df[df['population'] == df['population'].min()]['country']"
   ]
  },
  {
   "cell_type": "code",
   "execution_count": 65,
   "id": "8df52dcc-6abb-4b26-93d2-776fad910cc7",
   "metadata": {},
   "outputs": [
    {
     "data": {
      "text/plain": [
       "179    Funafuti\n",
       "Name: capital_city, dtype: object"
      ]
     },
     "execution_count": 65,
     "metadata": {},
     "output_type": "execute_result"
    }
   ],
   "source": [
    "df[df['population'] == df['population'].min()]['capital_city']"
   ]
  },
  {
   "cell_type": "code",
   "execution_count": 66,
   "id": "2e610cae-3364-44eb-8101-508e033a8637",
   "metadata": {},
   "outputs": [],
   "source": [
    "df.sort_values(by= 'democracy_score',ascending=False,inplace=True)"
   ]
  },
  {
   "cell_type": "code",
   "execution_count": 67,
   "id": "b7e7436f-e038-486e-9a0e-151ca3df7077",
   "metadata": {},
   "outputs": [
    {
     "data": {
      "text/plain": [
       "127         Norway\n",
       "74         Iceland\n",
       "164         Sweden\n",
       "122    New Zealand\n",
       "46         Denmark\n",
       "Name: country, dtype: object"
      ]
     },
     "execution_count": 67,
     "metadata": {},
     "output_type": "execute_result"
    }
   ],
   "source": [
    "df['country'].head()"
   ]
  },
  {
   "cell_type": "code",
   "execution_count": 68,
   "id": "a380032e-7928-4c3f-afb5-a006058c02f3",
   "metadata": {},
   "outputs": [
    {
     "data": {
      "text/plain": [
       "np.int64(22)"
      ]
     },
     "execution_count": 68,
     "metadata": {},
     "output_type": "execute_result"
    }
   ],
   "source": [
    "df['region'].value_counts().count()"
   ]
  },
  {
   "cell_type": "code",
   "execution_count": 69,
   "id": "883d71c9-f739-4c3c-95e2-e8469b17c812",
   "metadata": {},
   "outputs": [
    {
     "data": {
      "text/plain": [
       "43      Czech Republic\n",
       "151    Slovak Republic\n",
       "24            Bulgaria\n",
       "136             Poland\n",
       "73             Hungary\n",
       "139            Romania\n",
       "111            Moldova\n",
       "181            Ukraine\n",
       "14             Belarus\n",
       "140             Russia\n",
       "Name: country, dtype: object"
      ]
     },
     "execution_count": 69,
     "metadata": {},
     "output_type": "execute_result"
    }
   ],
   "source": [
    "# lie in eastern europe\n",
    "# df['region'].value_counts()['Eastern Europe']\n",
    "df[df['region']=='Eastern Europe'][\"country\"]"
   ]
  },
  {
   "cell_type": "code",
   "execution_count": 70,
   "id": "c4711b78-f823-4853-8044-1013cd510502",
   "metadata": {},
   "outputs": [
    {
     "data": {
      "text/plain": [
       "34    Xi Jinping\n",
       "Name: political_leader, dtype: object"
      ]
     },
     "execution_count": 70,
     "metadata": {},
     "output_type": "execute_result"
    }
   ],
   "source": [
    "df[df['population'] == df['population'].nlargest(2).iloc[1]]['political_leader']"
   ]
  },
  {
   "cell_type": "code",
   "execution_count": 71,
   "id": "24140cef-0ad9-482d-a9c4-598432a26046",
   "metadata": {},
   "outputs": [
    {
     "data": {
      "text/plain": [
       "np.int64(7)"
      ]
     },
     "execution_count": 71,
     "metadata": {},
     "output_type": "execute_result"
    }
   ],
   "source": [
    "df[df['political_leader'].isna()]['country'].count()"
   ]
  },
  {
   "cell_type": "code",
   "execution_count": 72,
   "id": "39815c72-4232-49ba-9e8e-ee0b2344872c",
   "metadata": {},
   "outputs": [],
   "source": [
    "# countries have republic in theie name "
   ]
  },
  {
   "cell_type": "code",
   "execution_count": 74,
   "id": "cb545b84-5726-4ed3-a2fb-493d8a81b106",
   "metadata": {},
   "outputs": [
    {
     "name": "stdout",
     "output_type": "stream",
     "text": [
      "125\n"
     ]
    }
   ],
   "source": [
    "count = 0 \n",
    "def counting(txt): \n",
    "    global count \n",
    "    if 'republic' in txt.lower():\n",
    "        count +=1\n",
    "    return txt \n",
    "df['country_long'] = df['country_long'].apply(counting)\n",
    "print(count)"
   ]
  },
  {
   "cell_type": "code",
   "execution_count": 75,
   "id": "326e56b9-6e33-4032-90d3-ede30f5935f1",
   "metadata": {},
   "outputs": [],
   "source": [
    "# country in africa region have highest population"
   ]
  },
  {
   "cell_type": "code",
   "execution_count": 80,
   "id": "3d4eeda5-2aff-4fad-b748-865144fdf16f",
   "metadata": {},
   "outputs": [
    {
     "data": {
      "text/html": [
       "<div>\n",
       "<style scoped>\n",
       "    .dataframe tbody tr th:only-of-type {\n",
       "        vertical-align: middle;\n",
       "    }\n",
       "\n",
       "    .dataframe tbody tr th {\n",
       "        vertical-align: top;\n",
       "    }\n",
       "\n",
       "    .dataframe thead th {\n",
       "        text-align: right;\n",
       "    }\n",
       "</style>\n",
       "<table border=\"1\" class=\"dataframe\">\n",
       "  <thead>\n",
       "    <tr style=\"text-align: right;\">\n",
       "      <th></th>\n",
       "      <th>country</th>\n",
       "      <th>country_long</th>\n",
       "      <th>currency</th>\n",
       "      <th>capital_city</th>\n",
       "      <th>region</th>\n",
       "      <th>continent</th>\n",
       "      <th>demonym</th>\n",
       "      <th>latitude</th>\n",
       "      <th>longitude</th>\n",
       "      <th>agricultural_land</th>\n",
       "      <th>...</th>\n",
       "      <th>population</th>\n",
       "      <th>women_parliament_seats_pct</th>\n",
       "      <th>rural_population</th>\n",
       "      <th>urban_population</th>\n",
       "      <th>press</th>\n",
       "      <th>democracy_score</th>\n",
       "      <th>democracy_type</th>\n",
       "      <th>median_age</th>\n",
       "      <th>political_leader</th>\n",
       "      <th>title</th>\n",
       "    </tr>\n",
       "  </thead>\n",
       "  <tbody>\n",
       "    <tr>\n",
       "      <th>108</th>\n",
       "      <td>Mauritius</td>\n",
       "      <td>Republic of Mauritius</td>\n",
       "      <td>Mauritian rupee</td>\n",
       "      <td>Port Louis</td>\n",
       "      <td>Eastern Africa</td>\n",
       "      <td>Africa</td>\n",
       "      <td>Mauritian</td>\n",
       "      <td>-20.283333</td>\n",
       "      <td>57.55</td>\n",
       "      <td>860.0</td>\n",
       "      <td>...</td>\n",
       "      <td>1262523</td>\n",
       "      <td>20.0</td>\n",
       "      <td>747287</td>\n",
       "      <td>515236</td>\n",
       "      <td>2.75</td>\n",
       "      <td>8.22</td>\n",
       "      <td>Full democracy</td>\n",
       "      <td>33.1</td>\n",
       "      <td>Pravind Jugnauth</td>\n",
       "      <td>Prime Minister</td>\n",
       "    </tr>\n",
       "  </tbody>\n",
       "</table>\n",
       "<p>1 rows × 64 columns</p>\n",
       "</div>"
      ],
      "text/plain": [
       "       country           country_long         currency capital_city  \\\n",
       "108  Mauritius  Republic of Mauritius  Mauritian rupee   Port Louis   \n",
       "\n",
       "             region continent    demonym   latitude  longitude  \\\n",
       "108  Eastern Africa    Africa  Mauritian -20.283333      57.55   \n",
       "\n",
       "     agricultural_land  ...  population  women_parliament_seats_pct  \\\n",
       "108              860.0  ...     1262523                        20.0   \n",
       "\n",
       "     rural_population  urban_population  press  democracy_score  \\\n",
       "108            747287            515236   2.75             8.22   \n",
       "\n",
       "     democracy_type  median_age  political_leader           title  \n",
       "108  Full democracy        33.1  Pravind Jugnauth  Prime Minister  \n",
       "\n",
       "[1 rows x 64 columns]"
      ]
     },
     "execution_count": 80,
     "metadata": {},
     "output_type": "execute_result"
    }
   ],
   "source": [
    "africa_df = df[df['continent']== 'Africa']\n",
    "africa_df.head(1)\n",
    "# for just i create a diif df for  africa"
   ]
  },
  {
   "cell_type": "code",
   "execution_count": 82,
   "id": "e5cb50e9-471f-4d1f-927a-d8f6aef5b0be",
   "metadata": {},
   "outputs": [
    {
     "data": {
      "text/plain": [
       "125    Nigeria\n",
       "Name: country, dtype: object"
      ]
     },
     "execution_count": 82,
     "metadata": {},
     "output_type": "execute_result"
    }
   ],
   "source": [
    "africa_df[africa_df['population'] == africa_df['population'].max()]['country']"
   ]
  },
  {
   "cell_type": "code",
   "execution_count": null,
   "id": "2766e7be-2337-40d1-b9e0-5859ee39db9e",
   "metadata": {},
   "outputs": [],
   "source": []
  }
 ],
 "metadata": {
  "kernelspec": {
   "display_name": "Python 3 (ipykernel)",
   "language": "python",
   "name": "python3"
  },
  "language_info": {
   "codemirror_mode": {
    "name": "ipython",
    "version": 3
   },
   "file_extension": ".py",
   "mimetype": "text/x-python",
   "name": "python",
   "nbconvert_exporter": "python",
   "pygments_lexer": "ipython3",
   "version": "3.13.5"
  }
 },
 "nbformat": 4,
 "nbformat_minor": 5
}
