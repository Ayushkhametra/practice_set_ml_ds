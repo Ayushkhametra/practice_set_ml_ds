{
 "cells": [
  {
   "cell_type": "markdown",
   "id": "06bc4144-7657-4d21-b02e-2a7825ce94d2",
   "metadata": {},
   "source": [
    "# Statistics"
   ]
  },
  {
   "cell_type": "raw",
   "id": "e102e686-9b6f-47bd-b701-88d2c03185de",
   "metadata": {},
   "source": [
    "\n",
    "Statistics is the science of collecting , organizing and analyzing data. for better decision making \n",
    "data is facts or pieces of info that can be measured\n",
    "Type of Statistics\n",
    "\n",
    "Descriptive Statistics\n",
    "Inferential Statistics\n",
    "\n",
    "Descriptive is consists of organizing and summaring data\n",
    "\n",
    "summarize and organize data using measures like the mean and standard deviation\n",
    "\n",
    "Inferential sts is technique where we used the data tht we have measured to form conculsion"
   ]
  },
  {
   "cell_type": "code",
   "execution_count": 1,
   "id": "88f14ef7-43af-43c7-833d-85659fa85b0b",
   "metadata": {},
   "outputs": [],
   "source": [
    "import numpy as np"
   ]
  },
  {
   "cell_type": "code",
   "execution_count": null,
   "id": "e78c6773-5ffb-475a-a03f-40886b45acdc",
   "metadata": {},
   "outputs": [],
   "source": []
  },
  {
   "cell_type": "code",
   "execution_count": null,
   "id": "9122287c-3e0b-4d06-acb0-f3ca3943f4d9",
   "metadata": {},
   "outputs": [],
   "source": []
  },
  {
   "cell_type": "code",
   "execution_count": null,
   "id": "58594c4b-1388-4ac4-b192-8f3345f6f8c4",
   "metadata": {},
   "outputs": [],
   "source": []
  },
  {
   "cell_type": "code",
   "execution_count": null,
   "id": "97359c07-5dae-4c3d-911e-ca54bb93e337",
   "metadata": {},
   "outputs": [],
   "source": []
  },
  {
   "cell_type": "code",
   "execution_count": null,
   "id": "875e487b-df7a-40e2-91d1-123a4c9983cb",
   "metadata": {},
   "outputs": [],
   "source": []
  },
  {
   "cell_type": "code",
   "execution_count": null,
   "id": "fd956149-ed2c-48b9-83a6-43a4c10d9d31",
   "metadata": {},
   "outputs": [],
   "source": []
  },
  {
   "cell_type": "code",
   "execution_count": null,
   "id": "652c3f49-3768-40a6-a2ce-3770a6d2602f",
   "metadata": {},
   "outputs": [],
   "source": []
  },
  {
   "cell_type": "code",
   "execution_count": null,
   "id": "5a3ee290-405e-4b54-9e1b-4ec562243082",
   "metadata": {},
   "outputs": [],
   "source": []
  },
  {
   "cell_type": "code",
   "execution_count": null,
   "id": "7d3d48f7-9f84-4672-a610-b80bead0fea1",
   "metadata": {},
   "outputs": [],
   "source": []
  }
 ],
 "metadata": {
  "kernelspec": {
   "display_name": "Python 3 (ipykernel)",
   "language": "python",
   "name": "python3"
  },
  "language_info": {
   "codemirror_mode": {
    "name": "ipython",
    "version": 3
   },
   "file_extension": ".py",
   "mimetype": "text/x-python",
   "name": "python",
   "nbconvert_exporter": "python",
   "pygments_lexer": "ipython3",
   "version": "3.13.5"
  }
 },
 "nbformat": 4,
 "nbformat_minor": 5
}
