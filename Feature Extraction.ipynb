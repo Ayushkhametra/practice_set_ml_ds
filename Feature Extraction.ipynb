{
 "cells": [
  {
   "cell_type": "code",
   "execution_count": 36,
   "id": "92d08094-edeb-4233-9b56-5eb698f37299",
   "metadata": {},
   "outputs": [],
   "source": [
    "import pandas as pd \n",
    "import numpy as np "
   ]
  },
  {
   "cell_type": "code",
   "execution_count": 37,
   "id": "c20ed213-5bc6-4d82-bf84-446df66a173a",
   "metadata": {
    "scrolled": true
   },
   "outputs": [
    {
     "data": {
      "text/html": [
       "<div>\n",
       "<style scoped>\n",
       "    .dataframe tbody tr th:only-of-type {\n",
       "        vertical-align: middle;\n",
       "    }\n",
       "\n",
       "    .dataframe tbody tr th {\n",
       "        vertical-align: top;\n",
       "    }\n",
       "\n",
       "    .dataframe thead th {\n",
       "        text-align: right;\n",
       "    }\n",
       "</style>\n",
       "<table border=\"1\" class=\"dataframe\">\n",
       "  <thead>\n",
       "    <tr style=\"text-align: right;\">\n",
       "      <th></th>\n",
       "      <th>Rank</th>\n",
       "      <th>Title</th>\n",
       "      <th>Score</th>\n",
       "    </tr>\n",
       "  </thead>\n",
       "  <tbody>\n",
       "    <tr>\n",
       "      <th>0</th>\n",
       "      <td>1</td>\n",
       "      <td>Fullmetal Alchemist: BrotherhoodTV (64 eps)Apr...</td>\n",
       "      <td>9.10</td>\n",
       "    </tr>\n",
       "    <tr>\n",
       "      <th>1</th>\n",
       "      <td>2</td>\n",
       "      <td>Steins;GateTV (24 eps)Apr 2011 - Sep 20112,473...</td>\n",
       "      <td>9.07</td>\n",
       "    </tr>\n",
       "    <tr>\n",
       "      <th>2</th>\n",
       "      <td>3</td>\n",
       "      <td>Bleach: Sennen Kessen-henTV (13 eps)Oct 2022 -...</td>\n",
       "      <td>9.06</td>\n",
       "    </tr>\n",
       "    <tr>\n",
       "      <th>3</th>\n",
       "      <td>4</td>\n",
       "      <td>Gintama°TV (51 eps)Apr 2015 - Mar 2016605,113 ...</td>\n",
       "      <td>9.06</td>\n",
       "    </tr>\n",
       "    <tr>\n",
       "      <th>4</th>\n",
       "      <td>5</td>\n",
       "      <td>Shingeki no Kyojin Season 3 Part 2TV (10 eps)A...</td>\n",
       "      <td>9.05</td>\n",
       "    </tr>\n",
       "  </tbody>\n",
       "</table>\n",
       "</div>"
      ],
      "text/plain": [
       "   Rank                                              Title  Score\n",
       "0     1  Fullmetal Alchemist: BrotherhoodTV (64 eps)Apr...   9.10\n",
       "1     2  Steins;GateTV (24 eps)Apr 2011 - Sep 20112,473...   9.07\n",
       "2     3  Bleach: Sennen Kessen-henTV (13 eps)Oct 2022 -...   9.06\n",
       "3     4  Gintama°TV (51 eps)Apr 2015 - Mar 2016605,113 ...   9.06\n",
       "4     5  Shingeki no Kyojin Season 3 Part 2TV (10 eps)A...   9.05"
      ]
     },
     "execution_count": 37,
     "metadata": {},
     "output_type": "execute_result"
    }
   ],
   "source": [
    "df=pd.read_csv(r'anime.csv')\n",
    "df.head()"
   ]
  },
  {
   "cell_type": "code",
   "execution_count": 38,
   "id": "6d747f4f-02e2-4388-be37-e3afd905eee3",
   "metadata": {},
   "outputs": [
    {
     "data": {
      "text/plain": [
       "'Shingeki no Kyojin Season 3 Part 2TV (10 eps)Apr 2019 - Jul 20192,146,679 membersManga StoreVolume 1€10.99Preview'"
      ]
     },
     "execution_count": 38,
     "metadata": {},
     "output_type": "execute_result"
    }
   ],
   "source": [
    "df.loc[4]['Title']"
   ]
  },
  {
   "cell_type": "code",
   "execution_count": 39,
   "id": "880aee95-1bec-4af9-9684-4879b280f5a5",
   "metadata": {},
   "outputs": [],
   "source": [
    "def extract_eposide(txt):\n",
    "    check = False\n",
    "    data = \"\"\n",
    "    for i in txt:\n",
    "        if i == \")\":\n",
    "            check = False\n",
    "            return data\n",
    "        if check ==True:\n",
    "            data = data + i\n",
    "        if i == \"(\":\n",
    "            check =True\n",
    "        "
   ]
  },
  {
   "cell_type": "code",
   "execution_count": 40,
   "id": "15239be5-fc97-47dc-9a8e-1d9e07542203",
   "metadata": {},
   "outputs": [],
   "source": [
    "df[\"Episodes\"] = df[\"Title\"].apply(extract_eposide)"
   ]
  },
  {
   "cell_type": "code",
   "execution_count": 41,
   "id": "53b87cfe-92a8-4580-bb59-09d9fda3223a",
   "metadata": {},
   "outputs": [
    {
     "data": {
      "text/html": [
       "<div>\n",
       "<style scoped>\n",
       "    .dataframe tbody tr th:only-of-type {\n",
       "        vertical-align: middle;\n",
       "    }\n",
       "\n",
       "    .dataframe tbody tr th {\n",
       "        vertical-align: top;\n",
       "    }\n",
       "\n",
       "    .dataframe thead th {\n",
       "        text-align: right;\n",
       "    }\n",
       "</style>\n",
       "<table border=\"1\" class=\"dataframe\">\n",
       "  <thead>\n",
       "    <tr style=\"text-align: right;\">\n",
       "      <th></th>\n",
       "      <th>Rank</th>\n",
       "      <th>Title</th>\n",
       "      <th>Score</th>\n",
       "      <th>Episodes</th>\n",
       "    </tr>\n",
       "  </thead>\n",
       "  <tbody>\n",
       "    <tr>\n",
       "      <th>0</th>\n",
       "      <td>1</td>\n",
       "      <td>Fullmetal Alchemist: BrotherhoodTV (64 eps)Apr...</td>\n",
       "      <td>9.1</td>\n",
       "      <td>64 eps</td>\n",
       "    </tr>\n",
       "  </tbody>\n",
       "</table>\n",
       "</div>"
      ],
      "text/plain": [
       "   Rank                                              Title  Score Episodes\n",
       "0     1  Fullmetal Alchemist: BrotherhoodTV (64 eps)Apr...    9.1   64 eps"
      ]
     },
     "execution_count": 41,
     "metadata": {},
     "output_type": "execute_result"
    }
   ],
   "source": [
    "df.head(1)"
   ]
  },
  {
   "cell_type": "code",
   "execution_count": 42,
   "id": "bfb908d1-42bb-4a47-a57e-77ee9b583449",
   "metadata": {},
   "outputs": [
    {
     "data": {
      "text/html": [
       "<div>\n",
       "<style scoped>\n",
       "    .dataframe tbody tr th:only-of-type {\n",
       "        vertical-align: middle;\n",
       "    }\n",
       "\n",
       "    .dataframe tbody tr th {\n",
       "        vertical-align: top;\n",
       "    }\n",
       "\n",
       "    .dataframe thead th {\n",
       "        text-align: right;\n",
       "    }\n",
       "</style>\n",
       "<table border=\"1\" class=\"dataframe\">\n",
       "  <thead>\n",
       "    <tr style=\"text-align: right;\">\n",
       "      <th></th>\n",
       "      <th>Rank</th>\n",
       "      <th>Title</th>\n",
       "      <th>Score</th>\n",
       "      <th>Episodes</th>\n",
       "    </tr>\n",
       "  </thead>\n",
       "  <tbody>\n",
       "    <tr>\n",
       "      <th>0</th>\n",
       "      <td>1</td>\n",
       "      <td>Fullmetal Alchemist: BrotherhoodTV (64 eps)Apr...</td>\n",
       "      <td>9.10</td>\n",
       "      <td>64</td>\n",
       "    </tr>\n",
       "    <tr>\n",
       "      <th>1</th>\n",
       "      <td>2</td>\n",
       "      <td>Steins;GateTV (24 eps)Apr 2011 - Sep 20112,473...</td>\n",
       "      <td>9.07</td>\n",
       "      <td>24</td>\n",
       "    </tr>\n",
       "    <tr>\n",
       "      <th>2</th>\n",
       "      <td>3</td>\n",
       "      <td>Bleach: Sennen Kessen-henTV (13 eps)Oct 2022 -...</td>\n",
       "      <td>9.06</td>\n",
       "      <td>13</td>\n",
       "    </tr>\n",
       "    <tr>\n",
       "      <th>3</th>\n",
       "      <td>4</td>\n",
       "      <td>Gintama°TV (51 eps)Apr 2015 - Mar 2016605,113 ...</td>\n",
       "      <td>9.06</td>\n",
       "      <td>51</td>\n",
       "    </tr>\n",
       "    <tr>\n",
       "      <th>4</th>\n",
       "      <td>5</td>\n",
       "      <td>Shingeki no Kyojin Season 3 Part 2TV (10 eps)A...</td>\n",
       "      <td>9.05</td>\n",
       "      <td>10</td>\n",
       "    </tr>\n",
       "  </tbody>\n",
       "</table>\n",
       "</div>"
      ],
      "text/plain": [
       "   Rank                                              Title  Score Episodes\n",
       "0     1  Fullmetal Alchemist: BrotherhoodTV (64 eps)Apr...   9.10       64\n",
       "1     2  Steins;GateTV (24 eps)Apr 2011 - Sep 20112,473...   9.07       24\n",
       "2     3  Bleach: Sennen Kessen-henTV (13 eps)Oct 2022 -...   9.06       13\n",
       "3     4  Gintama°TV (51 eps)Apr 2015 - Mar 2016605,113 ...   9.06       51\n",
       "4     5  Shingeki no Kyojin Season 3 Part 2TV (10 eps)A...   9.05       10"
      ]
     },
     "execution_count": 42,
     "metadata": {},
     "output_type": "execute_result"
    }
   ],
   "source": [
    "df[\"Episodes\"] = df[\"Episodes\"].str.replace(\" eps\",\"\")\n",
    "df.head()"
   ]
  },
  {
   "cell_type": "code",
   "execution_count": 43,
   "id": "2beb6b42-8e2c-4231-9484-1927c6e2ffe0",
   "metadata": {},
   "outputs": [
    {
     "data": {
      "text/html": [
       "<div>\n",
       "<style scoped>\n",
       "    .dataframe tbody tr th:only-of-type {\n",
       "        vertical-align: middle;\n",
       "    }\n",
       "\n",
       "    .dataframe tbody tr th {\n",
       "        vertical-align: top;\n",
       "    }\n",
       "\n",
       "    .dataframe thead th {\n",
       "        text-align: right;\n",
       "    }\n",
       "</style>\n",
       "<table border=\"1\" class=\"dataframe\">\n",
       "  <thead>\n",
       "    <tr style=\"text-align: right;\">\n",
       "      <th></th>\n",
       "      <th>Rank</th>\n",
       "      <th>Title</th>\n",
       "      <th>Score</th>\n",
       "      <th>Episodes</th>\n",
       "    </tr>\n",
       "  </thead>\n",
       "  <tbody>\n",
       "    <tr>\n",
       "      <th>0</th>\n",
       "      <td>1</td>\n",
       "      <td>Fullmetal Alchemist: BrotherhoodTV (64 eps)Apr...</td>\n",
       "      <td>9.10</td>\n",
       "      <td>64</td>\n",
       "    </tr>\n",
       "    <tr>\n",
       "      <th>1</th>\n",
       "      <td>2</td>\n",
       "      <td>Steins;GateTV (24 eps)Apr 2011 - Sep 20112,473...</td>\n",
       "      <td>9.07</td>\n",
       "      <td>24</td>\n",
       "    </tr>\n",
       "    <tr>\n",
       "      <th>2</th>\n",
       "      <td>3</td>\n",
       "      <td>Bleach: Sennen Kessen-henTV (13 eps)Oct 2022 -...</td>\n",
       "      <td>9.06</td>\n",
       "      <td>13</td>\n",
       "    </tr>\n",
       "    <tr>\n",
       "      <th>3</th>\n",
       "      <td>4</td>\n",
       "      <td>Gintama°TV (51 eps)Apr 2015 - Mar 2016605,113 ...</td>\n",
       "      <td>9.06</td>\n",
       "      <td>51</td>\n",
       "    </tr>\n",
       "    <tr>\n",
       "      <th>4</th>\n",
       "      <td>5</td>\n",
       "      <td>Shingeki no Kyojin Season 3 Part 2TV (10 eps)A...</td>\n",
       "      <td>9.05</td>\n",
       "      <td>10</td>\n",
       "    </tr>\n",
       "  </tbody>\n",
       "</table>\n",
       "</div>"
      ],
      "text/plain": [
       "   Rank                                              Title  Score  Episodes\n",
       "0     1  Fullmetal Alchemist: BrotherhoodTV (64 eps)Apr...   9.10        64\n",
       "1     2  Steins;GateTV (24 eps)Apr 2011 - Sep 20112,473...   9.07        24\n",
       "2     3  Bleach: Sennen Kessen-henTV (13 eps)Oct 2022 -...   9.06        13\n",
       "3     4  Gintama°TV (51 eps)Apr 2015 - Mar 2016605,113 ...   9.06        51\n",
       "4     5  Shingeki no Kyojin Season 3 Part 2TV (10 eps)A...   9.05        10"
      ]
     },
     "execution_count": 43,
     "metadata": {},
     "output_type": "execute_result"
    }
   ],
   "source": [
    "df[\"Episodes\"] =df[\"Episodes\"].astype(int)\n",
    "df.head()"
   ]
  },
  {
   "cell_type": "code",
   "execution_count": 44,
   "id": "f6f3e719-53b8-4aac-90a5-ccd2160d5638",
   "metadata": {},
   "outputs": [],
   "source": [
    "#make a new column for episode count\n",
    "#make a new column for time stamp\n",
    "#which anime has the highest score\n",
    "#give me top 5 highest scoring anime\n",
    "#which anime has the highest episode count\n",
    "#animes with top 5 episode count\n",
    "#which is the longest running anime"
   ]
  },
  {
   "cell_type": "code",
   "execution_count": 45,
   "id": "ac51b0d4-ca4d-4b3e-ad0e-76e7f535a6bb",
   "metadata": {},
   "outputs": [
    {
     "data": {
      "text/plain": [
       "'Gintama°TV (51 eps)Apr 2015 - Mar 2016605,113 members'"
      ]
     },
     "execution_count": 45,
     "metadata": {},
     "output_type": "execute_result"
    }
   ],
   "source": [
    "df.loc[3]['Title']"
   ]
  },
  {
   "cell_type": "code",
   "execution_count": 46,
   "id": "9dddfa47-2965-4292-9d1e-ce25b90f749c",
   "metadata": {},
   "outputs": [],
   "source": [
    "def extraction_time(txt):\n",
    "    check = False \n",
    "    data = \"\" \n",
    "    for i in range(len(txt)):\n",
    "        if txt[i] == ')': \n",
    "            for j in range(i+1,i+20): \n",
    "                data +=txt[j] \n",
    "            return data  "
   ]
  },
  {
   "cell_type": "code",
   "execution_count": 47,
   "id": "d551d7ca-c707-45e0-b884-530e8b04cfd2",
   "metadata": {},
   "outputs": [],
   "source": [
    "df['Aired By'] = df['Title'].apply(extraction_time)"
   ]
  },
  {
   "cell_type": "code",
   "execution_count": 48,
   "id": "fd1d79df-0359-42b9-a91b-d4dd86d49314",
   "metadata": {},
   "outputs": [
    {
     "data": {
      "text/html": [
       "<div>\n",
       "<style scoped>\n",
       "    .dataframe tbody tr th:only-of-type {\n",
       "        vertical-align: middle;\n",
       "    }\n",
       "\n",
       "    .dataframe tbody tr th {\n",
       "        vertical-align: top;\n",
       "    }\n",
       "\n",
       "    .dataframe thead th {\n",
       "        text-align: right;\n",
       "    }\n",
       "</style>\n",
       "<table border=\"1\" class=\"dataframe\">\n",
       "  <thead>\n",
       "    <tr style=\"text-align: right;\">\n",
       "      <th></th>\n",
       "      <th>Rank</th>\n",
       "      <th>Title</th>\n",
       "      <th>Score</th>\n",
       "      <th>Episodes</th>\n",
       "      <th>Aired By</th>\n",
       "    </tr>\n",
       "  </thead>\n",
       "  <tbody>\n",
       "    <tr>\n",
       "      <th>0</th>\n",
       "      <td>1</td>\n",
       "      <td>Fullmetal Alchemist: BrotherhoodTV (64 eps)Apr...</td>\n",
       "      <td>9.10</td>\n",
       "      <td>64</td>\n",
       "      <td>Apr 2009 - Jul 2010</td>\n",
       "    </tr>\n",
       "    <tr>\n",
       "      <th>1</th>\n",
       "      <td>2</td>\n",
       "      <td>Steins;GateTV (24 eps)Apr 2011 - Sep 20112,473...</td>\n",
       "      <td>9.07</td>\n",
       "      <td>24</td>\n",
       "      <td>Apr 2011 - Sep 2011</td>\n",
       "    </tr>\n",
       "    <tr>\n",
       "      <th>2</th>\n",
       "      <td>3</td>\n",
       "      <td>Bleach: Sennen Kessen-henTV (13 eps)Oct 2022 -...</td>\n",
       "      <td>9.06</td>\n",
       "      <td>13</td>\n",
       "      <td>Oct 2022 - Dec 2022</td>\n",
       "    </tr>\n",
       "    <tr>\n",
       "      <th>3</th>\n",
       "      <td>4</td>\n",
       "      <td>Gintama°TV (51 eps)Apr 2015 - Mar 2016605,113 ...</td>\n",
       "      <td>9.06</td>\n",
       "      <td>51</td>\n",
       "      <td>Apr 2015 - Mar 2016</td>\n",
       "    </tr>\n",
       "    <tr>\n",
       "      <th>4</th>\n",
       "      <td>5</td>\n",
       "      <td>Shingeki no Kyojin Season 3 Part 2TV (10 eps)A...</td>\n",
       "      <td>9.05</td>\n",
       "      <td>10</td>\n",
       "      <td>Apr 2019 - Jul 2019</td>\n",
       "    </tr>\n",
       "  </tbody>\n",
       "</table>\n",
       "</div>"
      ],
      "text/plain": [
       "   Rank                                              Title  Score  Episodes  \\\n",
       "0     1  Fullmetal Alchemist: BrotherhoodTV (64 eps)Apr...   9.10        64   \n",
       "1     2  Steins;GateTV (24 eps)Apr 2011 - Sep 20112,473...   9.07        24   \n",
       "2     3  Bleach: Sennen Kessen-henTV (13 eps)Oct 2022 -...   9.06        13   \n",
       "3     4  Gintama°TV (51 eps)Apr 2015 - Mar 2016605,113 ...   9.06        51   \n",
       "4     5  Shingeki no Kyojin Season 3 Part 2TV (10 eps)A...   9.05        10   \n",
       "\n",
       "              Aired By  \n",
       "0  Apr 2009 - Jul 2010  \n",
       "1  Apr 2011 - Sep 2011  \n",
       "2  Oct 2022 - Dec 2022  \n",
       "3  Apr 2015 - Mar 2016  \n",
       "4  Apr 2019 - Jul 2019  "
      ]
     },
     "execution_count": 48,
     "metadata": {},
     "output_type": "execute_result"
    }
   ],
   "source": [
    "df.head()"
   ]
  },
  {
   "cell_type": "code",
   "execution_count": 49,
   "id": "786ef7d1-913f-44af-bd38-53e59035e540",
   "metadata": {},
   "outputs": [],
   "source": [
    "from dateutil.relativedelta import relativedelta\n",
    "from datetime import datetime\n",
    "\n",
    "def calculate_total_months(period):\n",
    "    try:\n",
    "        start_str, end_str = period.split(' - ')\n",
    "        start_date = datetime.strptime(start_str, '%b %Y')\n",
    "        end_date = datetime.strptime(end_str, '%b %Y')\n",
    "        r = relativedelta(end_date, start_date)\n",
    "        return r.years * 12 + r.months + 1  # +1 to include the starting month\n",
    "    except:\n",
    "        return None\n",
    "\n",
    "df['Months'] = df['Aired By'].apply(calculate_total_months)"
   ]
  },
  {
   "cell_type": "code",
   "execution_count": 50,
   "id": "1ec37a9f-f659-4f59-8a67-8b8f3cd733d0",
   "metadata": {},
   "outputs": [
    {
     "data": {
      "text/html": [
       "<div>\n",
       "<style scoped>\n",
       "    .dataframe tbody tr th:only-of-type {\n",
       "        vertical-align: middle;\n",
       "    }\n",
       "\n",
       "    .dataframe tbody tr th {\n",
       "        vertical-align: top;\n",
       "    }\n",
       "\n",
       "    .dataframe thead th {\n",
       "        text-align: right;\n",
       "    }\n",
       "</style>\n",
       "<table border=\"1\" class=\"dataframe\">\n",
       "  <thead>\n",
       "    <tr style=\"text-align: right;\">\n",
       "      <th></th>\n",
       "      <th>Rank</th>\n",
       "      <th>Title</th>\n",
       "      <th>Score</th>\n",
       "      <th>Episodes</th>\n",
       "      <th>Aired By</th>\n",
       "      <th>Months</th>\n",
       "    </tr>\n",
       "  </thead>\n",
       "  <tbody>\n",
       "    <tr>\n",
       "      <th>0</th>\n",
       "      <td>1</td>\n",
       "      <td>Fullmetal Alchemist: BrotherhoodTV (64 eps)Apr...</td>\n",
       "      <td>9.10</td>\n",
       "      <td>64</td>\n",
       "      <td>Apr 2009 - Jul 2010</td>\n",
       "      <td>16</td>\n",
       "    </tr>\n",
       "    <tr>\n",
       "      <th>1</th>\n",
       "      <td>2</td>\n",
       "      <td>Steins;GateTV (24 eps)Apr 2011 - Sep 20112,473...</td>\n",
       "      <td>9.07</td>\n",
       "      <td>24</td>\n",
       "      <td>Apr 2011 - Sep 2011</td>\n",
       "      <td>6</td>\n",
       "    </tr>\n",
       "    <tr>\n",
       "      <th>2</th>\n",
       "      <td>3</td>\n",
       "      <td>Bleach: Sennen Kessen-henTV (13 eps)Oct 2022 -...</td>\n",
       "      <td>9.06</td>\n",
       "      <td>13</td>\n",
       "      <td>Oct 2022 - Dec 2022</td>\n",
       "      <td>3</td>\n",
       "    </tr>\n",
       "    <tr>\n",
       "      <th>3</th>\n",
       "      <td>4</td>\n",
       "      <td>Gintama°TV (51 eps)Apr 2015 - Mar 2016605,113 ...</td>\n",
       "      <td>9.06</td>\n",
       "      <td>51</td>\n",
       "      <td>Apr 2015 - Mar 2016</td>\n",
       "      <td>12</td>\n",
       "    </tr>\n",
       "    <tr>\n",
       "      <th>4</th>\n",
       "      <td>5</td>\n",
       "      <td>Shingeki no Kyojin Season 3 Part 2TV (10 eps)A...</td>\n",
       "      <td>9.05</td>\n",
       "      <td>10</td>\n",
       "      <td>Apr 2019 - Jul 2019</td>\n",
       "      <td>4</td>\n",
       "    </tr>\n",
       "  </tbody>\n",
       "</table>\n",
       "</div>"
      ],
      "text/plain": [
       "   Rank                                              Title  Score  Episodes  \\\n",
       "0     1  Fullmetal Alchemist: BrotherhoodTV (64 eps)Apr...   9.10        64   \n",
       "1     2  Steins;GateTV (24 eps)Apr 2011 - Sep 20112,473...   9.07        24   \n",
       "2     3  Bleach: Sennen Kessen-henTV (13 eps)Oct 2022 -...   9.06        13   \n",
       "3     4  Gintama°TV (51 eps)Apr 2015 - Mar 2016605,113 ...   9.06        51   \n",
       "4     5  Shingeki no Kyojin Season 3 Part 2TV (10 eps)A...   9.05        10   \n",
       "\n",
       "              Aired By  Months  \n",
       "0  Apr 2009 - Jul 2010      16  \n",
       "1  Apr 2011 - Sep 2011       6  \n",
       "2  Oct 2022 - Dec 2022       3  \n",
       "3  Apr 2015 - Mar 2016      12  \n",
       "4  Apr 2019 - Jul 2019       4  "
      ]
     },
     "execution_count": 50,
     "metadata": {},
     "output_type": "execute_result"
    }
   ],
   "source": [
    "df.head()"
   ]
  },
  {
   "cell_type": "code",
   "execution_count": 51,
   "id": "031d2ffa-4094-4225-be01-9f64be0ae398",
   "metadata": {},
   "outputs": [
    {
     "data": {
      "text/plain": [
       "0    Fullmetal Alchemist: BrotherhoodTV (64 eps)Apr...\n",
       "Name: Title, dtype: object"
      ]
     },
     "execution_count": 51,
     "metadata": {},
     "output_type": "execute_result"
    }
   ],
   "source": [
    "df[df['Score'] == df['Score'].max()]['Title']"
   ]
  },
  {
   "cell_type": "code",
   "execution_count": 54,
   "id": "3e24eeac-a6c4-4d60-bb88-84f1220c822e",
   "metadata": {},
   "outputs": [
    {
     "data": {
      "text/plain": [
       "0    Fullmetal Alchemist: BrotherhoodTV (64 eps)Apr...\n",
       "1    Steins;GateTV (24 eps)Apr 2011 - Sep 20112,473...\n",
       "2    Bleach: Sennen Kessen-henTV (13 eps)Oct 2022 -...\n",
       "3    Gintama°TV (51 eps)Apr 2015 - Mar 2016605,113 ...\n",
       "4    Shingeki no Kyojin Season 3 Part 2TV (10 eps)A...\n",
       "Name: Title, dtype: object"
      ]
     },
     "execution_count": 54,
     "metadata": {},
     "output_type": "execute_result"
    }
   ],
   "source": [
    "df[\"Title\"].head()"
   ]
  },
  {
   "cell_type": "code",
   "execution_count": 56,
   "id": "92694319-3eed-46ad-af07-cacbda465404",
   "metadata": {},
   "outputs": [
    {
     "data": {
      "text/html": [
       "<div>\n",
       "<style scoped>\n",
       "    .dataframe tbody tr th:only-of-type {\n",
       "        vertical-align: middle;\n",
       "    }\n",
       "\n",
       "    .dataframe tbody tr th {\n",
       "        vertical-align: top;\n",
       "    }\n",
       "\n",
       "    .dataframe thead th {\n",
       "        text-align: right;\n",
       "    }\n",
       "</style>\n",
       "<table border=\"1\" class=\"dataframe\">\n",
       "  <thead>\n",
       "    <tr style=\"text-align: right;\">\n",
       "      <th></th>\n",
       "      <th>Rank</th>\n",
       "      <th>Title</th>\n",
       "      <th>Score</th>\n",
       "      <th>Episodes</th>\n",
       "      <th>Aired By</th>\n",
       "      <th>Months</th>\n",
       "    </tr>\n",
       "  </thead>\n",
       "  <tbody>\n",
       "    <tr>\n",
       "      <th>15</th>\n",
       "      <td>16</td>\n",
       "      <td>GintamaTV (201 eps)Apr 2006 - Mar 20101,034,41...</td>\n",
       "      <td>8.94</td>\n",
       "      <td>201</td>\n",
       "      <td>Apr 2006 - Mar 2010</td>\n",
       "      <td>48</td>\n",
       "    </tr>\n",
       "  </tbody>\n",
       "</table>\n",
       "</div>"
      ],
      "text/plain": [
       "    Rank                                              Title  Score  Episodes  \\\n",
       "15    16  GintamaTV (201 eps)Apr 2006 - Mar 20101,034,41...   8.94       201   \n",
       "\n",
       "               Aired By  Months  \n",
       "15  Apr 2006 - Mar 2010      48  "
      ]
     },
     "execution_count": 56,
     "metadata": {},
     "output_type": "execute_result"
    }
   ],
   "source": [
    "df[df[\"Episodes\"] == df[\"Episodes\"].max()]"
   ]
  },
  {
   "cell_type": "code",
   "execution_count": null,
   "id": "d2ba82aa-1636-452f-9c7a-0c00249f3ff0",
   "metadata": {},
   "outputs": [],
   "source": []
  },
  {
   "cell_type": "code",
   "execution_count": null,
   "id": "c8797864-949f-4016-bf0b-8954ed22a27f",
   "metadata": {},
   "outputs": [],
   "source": []
  }
 ],
 "metadata": {
  "kernelspec": {
   "display_name": "Python 3 (ipykernel)",
   "language": "python",
   "name": "python3"
  },
  "language_info": {
   "codemirror_mode": {
    "name": "ipython",
    "version": 3
   },
   "file_extension": ".py",
   "mimetype": "text/x-python",
   "name": "python",
   "nbconvert_exporter": "python",
   "pygments_lexer": "ipython3",
   "version": "3.13.5"
  }
 },
 "nbformat": 4,
 "nbformat_minor": 5
}
